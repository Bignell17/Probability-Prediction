{
 "cells": [
  {
   "cell_type": "code",
   "execution_count": 2,
   "metadata": {},
   "outputs": [],
   "source": [
    "#Libraries\n",
    "import pandas as pd\n",
    "import numpy as np\n",
    "import bnlearn as bn\n",
    "from sklearn.model_selection import train_test_split\n",
    "from sklearn.linear_model import LinearRegression\n",
    "from sklearn.metrics import mean_squared_error\n",
    "from sklearn import metrics\n",
    "from math import log"
   ]
  },
  {
   "cell_type": "code",
   "execution_count": 3,
   "metadata": {},
   "outputs": [
    {
     "data": {
      "text/html": [
       "<div>\n",
       "<style scoped>\n",
       "    .dataframe tbody tr th:only-of-type {\n",
       "        vertical-align: middle;\n",
       "    }\n",
       "\n",
       "    .dataframe tbody tr th {\n",
       "        vertical-align: top;\n",
       "    }\n",
       "\n",
       "    .dataframe thead th {\n",
       "        text-align: right;\n",
       "    }\n",
       "</style>\n",
       "<table border=\"1\" class=\"dataframe\">\n",
       "  <thead>\n",
       "    <tr style=\"text-align: right;\">\n",
       "      <th></th>\n",
       "      <th>Unnamed: 0</th>\n",
       "      <th>year</th>\n",
       "      <th>manufacturer</th>\n",
       "      <th>model</th>\n",
       "      <th>description</th>\n",
       "      <th>euro_standard</th>\n",
       "      <th>engine_capacity</th>\n",
       "      <th>urban_metric</th>\n",
       "      <th>extra_urban_metric</th>\n",
       "      <th>co2</th>\n",
       "      <th>co</th>\n",
       "      <th>fuel_12k_miles</th>\n",
       "      <th>transmission</th>\n",
       "      <th>fueltype</th>\n",
       "      <th>c_o</th>\n",
       "    </tr>\n",
       "  </thead>\n",
       "  <tbody>\n",
       "    <tr>\n",
       "      <th>0</th>\n",
       "      <td>0</td>\n",
       "      <td>2000</td>\n",
       "      <td>Alfa Romeo</td>\n",
       "      <td>145 Range</td>\n",
       "      <td>1.6 Twin Spark 16v</td>\n",
       "      <td>2</td>\n",
       "      <td>1600</td>\n",
       "      <td>11.1</td>\n",
       "      <td>6.5</td>\n",
       "      <td>195</td>\n",
       "      <td>980</td>\n",
       "      <td>1236</td>\n",
       "      <td>0</td>\n",
       "      <td>0</td>\n",
       "      <td>6.887553</td>\n",
       "    </tr>\n",
       "    <tr>\n",
       "      <th>1</th>\n",
       "      <td>1</td>\n",
       "      <td>2000</td>\n",
       "      <td>Alfa Romeo</td>\n",
       "      <td>145 Range</td>\n",
       "      <td>1.8 Twin Spark 16v</td>\n",
       "      <td>2</td>\n",
       "      <td>1700</td>\n",
       "      <td>11.5</td>\n",
       "      <td>6.6</td>\n",
       "      <td>200</td>\n",
       "      <td>1105</td>\n",
       "      <td>1266</td>\n",
       "      <td>0</td>\n",
       "      <td>0</td>\n",
       "      <td>7.007601</td>\n",
       "    </tr>\n",
       "    <tr>\n",
       "      <th>2</th>\n",
       "      <td>2</td>\n",
       "      <td>2000</td>\n",
       "      <td>Alfa Romeo</td>\n",
       "      <td>145 Range</td>\n",
       "      <td>Cloverleaf</td>\n",
       "      <td>2</td>\n",
       "      <td>2000</td>\n",
       "      <td>12.4</td>\n",
       "      <td>6.6</td>\n",
       "      <td>210</td>\n",
       "      <td>1103</td>\n",
       "      <td>1326</td>\n",
       "      <td>0</td>\n",
       "      <td>0</td>\n",
       "      <td>7.005789</td>\n",
       "    </tr>\n",
       "    <tr>\n",
       "      <th>3</th>\n",
       "      <td>3</td>\n",
       "      <td>2000</td>\n",
       "      <td>Alfa Romeo</td>\n",
       "      <td>146 Range</td>\n",
       "      <td>1.6 Twin Spark 16v</td>\n",
       "      <td>2</td>\n",
       "      <td>1600</td>\n",
       "      <td>11.3</td>\n",
       "      <td>6.6</td>\n",
       "      <td>195</td>\n",
       "      <td>980</td>\n",
       "      <td>1252</td>\n",
       "      <td>0</td>\n",
       "      <td>0</td>\n",
       "      <td>6.887553</td>\n",
       "    </tr>\n",
       "    <tr>\n",
       "      <th>4</th>\n",
       "      <td>4</td>\n",
       "      <td>2000</td>\n",
       "      <td>Alfa Romeo</td>\n",
       "      <td>146 Range</td>\n",
       "      <td>1.8 Twin Spark 16v</td>\n",
       "      <td>2</td>\n",
       "      <td>1700</td>\n",
       "      <td>11.5</td>\n",
       "      <td>6.6</td>\n",
       "      <td>200</td>\n",
       "      <td>1105</td>\n",
       "      <td>1266</td>\n",
       "      <td>0</td>\n",
       "      <td>0</td>\n",
       "      <td>7.007601</td>\n",
       "    </tr>\n",
       "  </tbody>\n",
       "</table>\n",
       "</div>"
      ],
      "text/plain": [
       "   Unnamed: 0  year manufacturer      model         description  \\\n",
       "0           0  2000   Alfa Romeo  145 Range  1.6 Twin Spark 16v   \n",
       "1           1  2000   Alfa Romeo  145 Range  1.8 Twin Spark 16v   \n",
       "2           2  2000   Alfa Romeo  145 Range          Cloverleaf   \n",
       "3           3  2000   Alfa Romeo  146 Range  1.6 Twin Spark 16v   \n",
       "4           4  2000   Alfa Romeo  146 Range  1.8 Twin Spark 16v   \n",
       "\n",
       "   euro_standard  engine_capacity  urban_metric  extra_urban_metric  co2  \\\n",
       "0              2             1600          11.1                 6.5  195   \n",
       "1              2             1700          11.5                 6.6  200   \n",
       "2              2             2000          12.4                 6.6  210   \n",
       "3              2             1600          11.3                 6.6  195   \n",
       "4              2             1700          11.5                 6.6  200   \n",
       "\n",
       "     co  fuel_12k_miles  transmission  fueltype       c_o  \n",
       "0   980            1236             0         0  6.887553  \n",
       "1  1105            1266             0         0  7.007601  \n",
       "2  1103            1326             0         0  7.005789  \n",
       "3   980            1252             0         0  6.887553  \n",
       "4  1105            1266             0         0  7.007601  "
      ]
     },
     "execution_count": 3,
     "metadata": {},
     "output_type": "execute_result"
    }
   ],
   "source": [
    "df = pd.read_csv(r'C:/Users/Jordan/Desktop/jupyter notebook/Dissertation Code/data_cleaned_and_Explored.csv')\n",
    "df.head()"
   ]
  },
  {
   "cell_type": "code",
   "execution_count": 4,
   "metadata": {},
   "outputs": [],
   "source": [
    "df = df.drop(columns = {'manufacturer', 'model', 'description', 'extra_urban_metric', 'c_o'})"
   ]
  },
  {
   "cell_type": "code",
   "execution_count": 4,
   "metadata": {},
   "outputs": [],
   "source": [
    "df['fuel_12k_miles'] = df['fuel_12k_miles'].apply(lambda x: '0-25%' if 0<=x<=1142 else\n",
    "                                                  '25-50%' if 1143<=x<=1376 else\n",
    "                                                  '50-75%' if 1377<=x<=1680 else '75-100%')\n",
    "\n",
    "df['co'] = df['co'].apply(lambda x: '0-25%' if 0<=x<=189 else\n",
    "                          '25-50%' if 190<=x<=302 else\n",
    "                          '50-75%' if 303<=x<=380 else '75-100%')\n",
    "\n",
    "df['co2'] = df['co2'].apply(lambda x: '0-25%' if 0<=x<=150 else\n",
    "                            '25-50%' if 151<=x<=180 else\n",
    "                            '50-75%' if 181<x<218 else '75-100%')\n",
    "\n",
    "df['engine_capacity'] = df['engine_capacity'].apply(lambda x: 'Low' if 0<=x<=1400 else\n",
    "                                                    'Medium' if 1500<=x<=2400 else 'High')\n",
    "\n",
    "df['urban_metric'] = df['urban_metric'].apply(lambda x: '0-25%' if 0<=x<=7.7 else\n",
    "                                             '25-50%' if 7.8<=x<=9.8 else\n",
    "                                             '50-75%' if 9.9<=x<=12.4 else '75-100%')\n"
   ]
  },
  {
   "cell_type": "code",
   "execution_count": 12,
   "metadata": {},
   "outputs": [
    {
     "data": {
      "text/plain": [
       "0         981\n",
       "1        1106\n",
       "2        1104\n",
       "3         981\n",
       "4        1106\n",
       "         ... \n",
       "44674     345\n",
       "44675     220\n",
       "44676     302\n",
       "44677     284\n",
       "44678     284\n",
       "Name: co, Length: 44679, dtype: int64"
      ]
     },
     "execution_count": 12,
     "metadata": {},
     "output_type": "execute_result"
    }
   ],
   "source": [
    "df['co']\n",
    "\n"
   ]
  },
  {
   "cell_type": "code",
   "execution_count": 11,
   "metadata": {},
   "outputs": [],
   "source": [
    "df['co'] = df['co'] + 1"
   ]
  },
  {
   "cell_type": "code",
   "execution_count": 5,
   "metadata": {},
   "outputs": [
    {
     "data": {
      "text/html": [
       "<div>\n",
       "<style scoped>\n",
       "    .dataframe tbody tr th:only-of-type {\n",
       "        vertical-align: middle;\n",
       "    }\n",
       "\n",
       "    .dataframe tbody tr th {\n",
       "        vertical-align: top;\n",
       "    }\n",
       "\n",
       "    .dataframe thead th {\n",
       "        text-align: right;\n",
       "    }\n",
       "</style>\n",
       "<table border=\"1\" class=\"dataframe\">\n",
       "  <thead>\n",
       "    <tr style=\"text-align: right;\">\n",
       "      <th></th>\n",
       "      <th>year</th>\n",
       "      <th>euro_standard</th>\n",
       "      <th>engine_capacity</th>\n",
       "      <th>urban_metric</th>\n",
       "      <th>co2</th>\n",
       "      <th>co</th>\n",
       "      <th>fuel_12k_miles</th>\n",
       "      <th>transmission</th>\n",
       "      <th>fueltype</th>\n",
       "    </tr>\n",
       "  </thead>\n",
       "  <tbody>\n",
       "    <tr>\n",
       "      <th>0</th>\n",
       "      <td>2000</td>\n",
       "      <td>2</td>\n",
       "      <td>Medium</td>\n",
       "      <td>50-75%</td>\n",
       "      <td>50-75%</td>\n",
       "      <td>75-100%</td>\n",
       "      <td>25-50%</td>\n",
       "      <td>0</td>\n",
       "      <td>0</td>\n",
       "    </tr>\n",
       "    <tr>\n",
       "      <th>1</th>\n",
       "      <td>2000</td>\n",
       "      <td>2</td>\n",
       "      <td>Medium</td>\n",
       "      <td>50-75%</td>\n",
       "      <td>50-75%</td>\n",
       "      <td>75-100%</td>\n",
       "      <td>25-50%</td>\n",
       "      <td>0</td>\n",
       "      <td>0</td>\n",
       "    </tr>\n",
       "    <tr>\n",
       "      <th>2</th>\n",
       "      <td>2000</td>\n",
       "      <td>2</td>\n",
       "      <td>Medium</td>\n",
       "      <td>50-75%</td>\n",
       "      <td>50-75%</td>\n",
       "      <td>75-100%</td>\n",
       "      <td>25-50%</td>\n",
       "      <td>0</td>\n",
       "      <td>0</td>\n",
       "    </tr>\n",
       "    <tr>\n",
       "      <th>3</th>\n",
       "      <td>2000</td>\n",
       "      <td>2</td>\n",
       "      <td>Medium</td>\n",
       "      <td>50-75%</td>\n",
       "      <td>50-75%</td>\n",
       "      <td>75-100%</td>\n",
       "      <td>25-50%</td>\n",
       "      <td>0</td>\n",
       "      <td>0</td>\n",
       "    </tr>\n",
       "    <tr>\n",
       "      <th>4</th>\n",
       "      <td>2000</td>\n",
       "      <td>2</td>\n",
       "      <td>Medium</td>\n",
       "      <td>50-75%</td>\n",
       "      <td>50-75%</td>\n",
       "      <td>75-100%</td>\n",
       "      <td>25-50%</td>\n",
       "      <td>0</td>\n",
       "      <td>0</td>\n",
       "    </tr>\n",
       "  </tbody>\n",
       "</table>\n",
       "</div>"
      ],
      "text/plain": [
       "   year  euro_standard engine_capacity urban_metric     co2       co  \\\n",
       "0  2000              2          Medium       50-75%  50-75%  75-100%   \n",
       "1  2000              2          Medium       50-75%  50-75%  75-100%   \n",
       "2  2000              2          Medium       50-75%  50-75%  75-100%   \n",
       "3  2000              2          Medium       50-75%  50-75%  75-100%   \n",
       "4  2000              2          Medium       50-75%  50-75%  75-100%   \n",
       "\n",
       "  fuel_12k_miles  transmission  fueltype  \n",
       "0         25-50%             0         0  \n",
       "1         25-50%             0         0  \n",
       "2         25-50%             0         0  \n",
       "3         25-50%             0         0  \n",
       "4         25-50%             0         0  "
      ]
     },
     "execution_count": 5,
     "metadata": {},
     "output_type": "execute_result"
    }
   ],
   "source": [
    "df.head()"
   ]
  },
  {
   "cell_type": "code",
   "execution_count": 6,
   "metadata": {},
   "outputs": [
    {
     "name": "stderr",
     "output_type": "stream",
     "text": [
      " 11%|█████████▎                                                                          | 1/9 [00:00<00:01,  7.80it/s]"
     ]
    },
    {
     "name": "stdout",
     "output_type": "stream",
     "text": [
      "\n",
      "[df2onehot] >Auto detecting dtypes.\n"
     ]
    },
    {
     "name": "stderr",
     "output_type": "stream",
     "text": [
      "100%|████████████████████████████████████████████████████████████████████████████████████| 9/9 [00:00<00:00, 10.55it/s]\n",
      " 67%|████████████████████████████████████████████████████████                            | 6/9 [00:00<00:00, 57.88it/s]"
     ]
    },
    {
     "name": "stdout",
     "output_type": "stream",
     "text": [
      "[df2onehot] >Set dtypes in dataframe..\n"
     ]
    },
    {
     "name": "stderr",
     "output_type": "stream",
     "text": [
      "\r",
      "100%|████████████████████████████████████████████████████████████████████████████████████| 9/9 [00:00<00:00, 60.08it/s]"
     ]
    },
    {
     "name": "stdout",
     "output_type": "stream",
     "text": [
      "[df2onehot] >Total onehot features: 45\n"
     ]
    },
    {
     "name": "stderr",
     "output_type": "stream",
     "text": [
      "\n"
     ]
    }
   ],
   "source": [
    "dfhot, dfnum = bn.df2onehot(df)"
   ]
  },
  {
   "cell_type": "code",
   "execution_count": 7,
   "metadata": {},
   "outputs": [
    {
     "name": "stderr",
     "output_type": "stream",
     "text": [
      "Building tree: 100%|███████████████████████████████████████████████████████████████| 36/36.0 [00:00<00:00, 1512.13it/s]\n"
     ]
    },
    {
     "name": "stdout",
     "output_type": "stream",
     "text": [
      "[bnlearn] >Computing best DAG using [cl]\n",
      "[bnlearn] >Plot based on BayesianModel\n"
     ]
    },
    {
     "data": {
      "image/png": "[encoded data removed]",
      "text/plain": [
       "<Figure size 1080x576 with 1 Axes>"
      ]
     },
     "metadata": {},
     "output_type": "display_data"
    }
   ],
   "source": [
    "DAG = bn.structure_learning.fit(dfnum, methodtype='cl', root_node='co')\n",
    "# Plot\n",
    "G = bn.plot(DAG)"
   ]
  },
  {
   "cell_type": "code",
   "execution_count": 8,
   "metadata": {},
   "outputs": [
    {
     "name": "stdout",
     "output_type": "stream",
     "text": [
      "[bnlearn] >Parameter learning> Computing parameters using [bayes]\n",
      "[bnlearn] >Conversion of adjmat to BayesianModel.\n",
      "[bnlearn] >CPD of co:\n",
      "+-------+----------+\n",
      "| co(1) | 0.251253 |\n",
      "+-------+----------+\n",
      "| co(2) | 0.249042 |\n",
      "+-------+----------+\n",
      "| co(3) | 0.128177 |\n",
      "+-------+----------+\n",
      "| co(4) | 0.371527 |\n",
      "+-------+----------+\n",
      "[bnlearn] >CPD of fueltype:\n",
      "+-------------+----------------------+-----------------------+----------------------+----------------------+\n",
      "| co          | co(1)                | co(2)                 | co(3)                | co(4)                |\n",
      "+-------------+----------------------+-----------------------+----------------------+----------------------+\n",
      "| fueltype(1) | 0.21146641108303563  | 0.5190752461322081    | 0.6777113578138343   | 0.9000648164515939   |\n",
      "+-------------+----------------------+-----------------------+----------------------+----------------------+\n",
      "| fueltype(2) | 0.7682321164067265   | 0.459915611814346     | 0.2959863364645602   | 0.088386070355312    |\n",
      "+-------------+----------------------+-----------------------+----------------------+----------------------+\n",
      "| fueltype(3) | 0.011239871046440707 | 0.010109001406469762  | 0.008710503842869342 | 0.003122974485887691 |\n",
      "+-------------+----------------------+-----------------------+----------------------+----------------------+\n",
      "| fueltype(4) | 0.004356539165287096 | 0.005186357243319268  | 0.008539709649871904 | 0.005479936362029344 |\n",
      "+-------------+----------------------+-----------------------+----------------------+----------------------+\n",
      "| fueltype(5) | 0.004705062298510063 | 0.0057137834036568216 | 0.009052092228864219 | 0.002946202345177067 |\n",
      "+-------------+----------------------+-----------------------+----------------------+----------------------+\n",
      "[bnlearn] >CPD of urban_metric:\n",
      "+-----------------+---------------------+----------------------+---------------------+---------------------+---------------------+\n",
      "| fueltype        | fueltype(1)         | fueltype(2)          | fueltype(3)         | fueltype(4)         | fueltype(5)         |\n",
      "+-----------------+---------------------+----------------------+---------------------+---------------------+---------------------+\n",
      "| urban_metric(1) | 0.09468721668177697 | 0.5236662423330632   | 0.48563218390804597 | 0.1984126984126984  | 0.32432432432432434 |\n",
      "+-----------------+---------------------+----------------------+---------------------+---------------------+---------------------+\n",
      "| urban_metric(2) | 0.2157026291931097  | 0.2886818655248235   | 0.20402298850574713 | 0.1984126984126984  | 0.22522522522522523 |\n",
      "+-----------------+---------------------+----------------------+---------------------+---------------------+---------------------+\n",
      "| urban_metric(3) | 0.31067996373526746 | 0.1493461404929985   | 0.16666666666666666 | 0.20634920634920634 | 0.22522522522522523 |\n",
      "+-----------------+---------------------+----------------------+---------------------+---------------------+---------------------+\n",
      "| urban_metric(4) | 0.3789301903898459  | 0.038305751649114685 | 0.14367816091954022 | 0.3968253968253968  | 0.22522522522522523 |\n",
      "+-----------------+---------------------+----------------------+---------------------+---------------------+---------------------+\n",
      "[bnlearn] >CPD of co2:\n",
      "+--------------+----------------------+----------------------+-----------------------+----------------------+\n",
      "| urban_metric | urban_metric(1)      | urban_metric(2)      | urban_metric(3)       | urban_metric(4)      |\n",
      "+--------------+----------------------+----------------------+-----------------------+----------------------+\n",
      "| co2(1)       | 0.8321201472556894   | 0.12554015124234785  | 0.0060576582950123805 | 0.005702413579701176 |\n",
      "+--------------+----------------------+----------------------+-----------------------+----------------------+\n",
      "| co2(2)       | 0.1573376840696118   | 0.697200216060497    | 0.1569243013795543    | 0.01604632658474052  |\n",
      "+--------------+----------------------+----------------------+-----------------------+----------------------+\n",
      "| co2(3)       | 0.005312918340026774 | 0.16407093986316168  | 0.6830120268836222    | 0.09941649721510035  |\n",
      "+--------------+----------------------+----------------------+-----------------------+----------------------+\n",
      "| co2(4)       | 0.005229250334672021 | 0.013188692833993518 | 0.1540060134418111    | 0.878834762620458    |\n",
      "+--------------+----------------------+----------------------+-----------------------+----------------------+\n",
      "[bnlearn] >CPD of engine_capacity:\n",
      "+--------------------+---------------------+---------------------+---------------------+----------------------+\n",
      "| co2                | co2(1)              | co2(2)              | co2(3)              | co2(4)               |\n",
      "+--------------------+---------------------+---------------------+---------------------+----------------------+\n",
      "| engine_capacity(1) | 0.01676399662976844 | 0.06366750136718188 | 0.1680019874541954  | 0.6939141647744792   |\n",
      "+--------------------+---------------------+---------------------+---------------------+----------------------+\n",
      "| engine_capacity(2) | 0.3524216275894128  | 0.14716633566473822 | 0.02285572324700329 | 0.007933170745381659 |\n",
      "+--------------------+---------------------+---------------------+---------------------+----------------------+\n",
      "| engine_capacity(3) | 0.6308143757808187  | 0.78916616296808    | 0.8091422892988014  | 0.298152664480139    |\n",
      "+--------------------+---------------------+---------------------+---------------------+----------------------+\n",
      "[bnlearn] >CPD of fuel_12k_miles:\n",
      "+-------------------+----------------------+---------------------+---------------------+---------------------+\n",
      "| co2               | co2(1)               | co2(2)              | co2(3)              | co2(4)              |\n",
      "+-------------------+----------------------+---------------------+---------------------+---------------------+\n",
      "| fuel_12k_miles(1) | 0.44831343153490805  | 0.3851567222174251  | 0.16186882802310415 | 0.0145908670423009  |\n",
      "+-------------------+----------------------+---------------------+---------------------+---------------------+\n",
      "| fuel_12k_miles(2) | 0.26893576222435284  | 0.23050686469216822 | 0.37446431898639837 | 0.13299974770835085 |\n",
      "+-------------------+----------------------+---------------------+---------------------+---------------------+\n",
      "| fuel_12k_miles(3) | 0.2562973938812865   | 0.1782661255504706  | 0.23583938885783493 | 0.32860987301320327 |\n",
      "+-------------------+----------------------+---------------------+---------------------+---------------------+\n",
      "| fuel_12k_miles(4) | 0.026453412359452626 | 0.20607028753993611 | 0.22782746413266255 | 0.523799512236145   |\n",
      "+-------------------+----------------------+---------------------+---------------------+---------------------+\n",
      "[bnlearn] >CPD of year:\n",
      "+----------------+----------------------+----------------------+----------------------+----------------------+\n",
      "| fuel_12k_miles | fuel_12k_miles(1)    | fuel_12k_miles(2)    | fuel_12k_miles(3)    | fuel_12k_miles(4)    |\n",
      "+----------------+----------------------+----------------------+----------------------+----------------------+\n",
      "| year(1)        | 0.04662241796414614  | 0.04859608514064308  | 0.04070754481450042  | 0.02075476441896716  |\n",
      "+----------------+----------------------+----------------------+----------------------+----------------------+\n",
      "| year(2)        | 0.07371751132063767  | 0.056961706838423984 | 0.042105657362560535 | 0.020402775682606726 |\n",
      "+----------------+----------------------+----------------------+----------------------+----------------------+\n",
      "| year(3)        | 0.08379132808138452  | 0.055816937553464493 | 0.035639386827782484 | 0.01573892492583094  |\n",
      "+----------------+----------------------+----------------------+----------------------+----------------------+\n",
      "| year(4)        | 0.13285776316605669  | 0.06884969556684949  | 0.042367803465321804 | 0.017234877055362797 |\n",
      "+----------------+----------------------+----------------------+----------------------+----------------------+\n",
      "| year(5)        | 0.1346814713727436   | 0.07474966034317918  | 0.043416387876366896 | 0.018378840448534217 |\n",
      "+----------------+----------------------+----------------------+----------------------+----------------------+\n",
      "| year(6)        | 0.13798151479436757  | 0.08126603934987167  | 0.06499975033704498  | 0.029290491275707743 |\n",
      "+----------------+----------------------+----------------------+----------------------+----------------------+\n",
      "| year(7)        | 0.07693071149432416  | 0.08108992099833945  | 0.08544714635242422  | 0.06932921003670739  |\n",
      "+----------------+----------------------+----------------------+----------------------+----------------------+\n",
      "| year(8)        | 0.07389119781651261  | 0.07466160116741306  | 0.06430069406301492  | 0.052873736611856986 |\n",
      "+----------------+----------------------+----------------------+----------------------+----------------------+\n",
      "| year(9)        | 0.027343216922027163 | 0.06682433452422884  | 0.08483547211264791  | 0.11579172323628499  |\n",
      "+----------------+----------------------+----------------------+----------------------+----------------------+\n",
      "| year(10)       | 0.10802059425593945  | 0.10328083329140038  | 0.07417486393368951  | 0.056305626791371244 |\n",
      "+----------------+----------------------+----------------------+----------------------+----------------------+\n",
      "| year(11)       | 0.05087773711308231  | 0.10037488049111859  | 0.11576871223847804  | 0.12855131492935082  |\n",
      "+----------------+----------------------+----------------------+----------------------+----------------------+\n",
      "| year(12)       | 0.01805098939271757  | 0.05114980123786041  | 0.09969041793578667  | 0.16375018856539444  |\n",
      "+----------------+----------------------+----------------------+----------------------+----------------------+\n",
      "| year(13)       | 0.014316729731406238 | 0.050533387007497606 | 0.09724372097668146  | 0.1526625433700407   |\n",
      "+----------------+----------------------+----------------------+----------------------+----------------------+\n",
      "| year(14)       | 0.020916816574654176 | 0.08584511648970965  | 0.10930244170369999  | 0.1389349826519837   |\n",
      "+----------------+----------------------+----------------------+----------------------+----------------------+\n",
      "[bnlearn] >CPD of transmission:\n",
      "+-----------------+-------------------+--------------------+---------------------+--------------------+\n",
      "| fuel_12k_miles  | fuel_12k_miles(1) | fuel_12k_miles(2)  | fuel_12k_miles(3)   | fuel_12k_miles(4)  |\n",
      "+-----------------+-------------------+--------------------+---------------------+--------------------+\n",
      "| transmission(0) | 0.788797221016066 | 0.6558647411060232 | 0.5304089479203076  | 0.3929074269623372 |\n",
      "+-----------------+-------------------+--------------------+---------------------+--------------------+\n",
      "| transmission(1) | 0.211202778983934 | 0.3441352588939767 | 0.46959105207969243 | 0.6070925730376628 |\n",
      "+-----------------+-------------------+--------------------+---------------------+--------------------+\n",
      "[bnlearn] >CPD of euro_standard:\n",
      "+------------------+----------------------+-----------------------+---------------------+----------------------+----------------------+----------------------+----------------------+---------------------+----------------------+-----------------------+-----------------------+-----------------------+----------------------+-----------------------+\n",
      "| year             | year(1)              | year(2)               | year(3)             | year(4)              | year(5)              | year(6)              | year(7)              | year(8)             | year(9)              | year(10)              | year(11)              | year(12)              | year(13)             | year(14)              |\n",
      "+------------------+----------------------+-----------------------+---------------------+----------------------+----------------------+----------------------+----------------------+---------------------+----------------------+-----------------------+-----------------------+-----------------------+----------------------+-----------------------+\n",
      "| euro_standard(1) | 0.6971993936008938   | 0.2639984482089746    | 0.0266701529611714  | 0.004773953310736621 | 0.004600239212439047 | 0.003981050201043035 | 0.003998880313512217 | 0.00470632530120482 | 0.004251158440675085 | 0.0036579120637939867 | 0.0031665611146295125 | 0.0037688915689895607 | 0.003983270264887473 | 0.0035313228335334423 |\n",
      "+------------------+----------------------+-----------------------+---------------------+----------------------+----------------------+----------------------+----------------------+---------------------+----------------------+-----------------------+-----------------------+-----------------------+----------------------+-----------------------+\n",
      "| euro_standard(2) | 0.2509375249341738   | 0.59937928358981      | 0.7789253497189176  | 0.7025349692080012   | 0.708528843499862    | 0.47800469763923725  | 0.27048426440596635  | 0.0379800451807229  | 0.004251158440675085 | 0.0036579120637939867 | 0.0031665611146295125 | 0.0037688915689895607 | 0.003983270264887473 | 0.0035313228335334423 |\n",
      "+------------------+----------------------+-----------------------+---------------------+----------------------+----------------------+----------------------+----------------------+---------------------+----------------------+-----------------------+-----------------------+-----------------------+----------------------+-----------------------+\n",
      "| euro_standard(3) | 0.035905210244953335 | 0.12369067632225528   | 0.18133089292718005 | 0.283143170859789    | 0.2776704388628209   | 0.5100521517576337   | 0.717519094653497    | 0.9479009789156627  | 0.9829953662372998   | 0.90394322920477      | 0.6455351488283724    | 0.20031658689179516   | 0.007050388368850827 | 0.0035313228335334423 |\n",
      "+------------------+----------------------+-----------------------+---------------------+----------------------+----------------------+----------------------+----------------------+---------------------+----------------------+-----------------------+-----------------------+-----------------------+----------------------+-----------------------+\n",
      "| euro_standard(4) | 0.00797893560998963  | 0.0064657959394801515 | 0.00653680219636554 | 0.004773953310736621 | 0.004600239212439047 | 0.003981050201043035 | 0.003998880313512217 | 0.00470632530120482 | 0.004251158440675085 | 0.08508303460384813   | 0.34496516782773906   | 0.7867938039422606    | 0.9670583549093806   | 0.9858747086658664    |\n",
      "+------------------+----------------------+-----------------------+---------------------+----------------------+----------------------+----------------------+----------------------+---------------------+----------------------+-----------------------+-----------------------+-----------------------+----------------------+-----------------------+\n",
      "| euro_standard(5) | 0.00797893560998963  | 0.0064657959394801515 | 0.00653680219636554 | 0.004773953310736621 | 0.004600239212439047 | 0.003981050201043035 | 0.003998880313512217 | 0.00470632530120482 | 0.004251158440675085 | 0.0036579120637939867 | 0.0031665611146295125 | 0.005351826027965176  | 0.01792471619199363  | 0.0035313228335334423 |\n",
      "+------------------+----------------------+-----------------------+---------------------+----------------------+----------------------+----------------------+----------------------+---------------------+----------------------+-----------------------+-----------------------+-----------------------+----------------------+-----------------------+\n"
     ]
    }
   ],
   "source": [
    "model = bn.parameter_learning.fit(DAG, dfnum)"
   ]
  },
  {
   "cell_type": "code",
   "execution_count": 9,
   "metadata": {},
   "outputs": [
    {
     "ename": "Exception",
     "evalue": "[bnlearn] >Error: [variables] should match names in the model (Case sensitive!)",
     "output_type": "error",
     "traceback": [
      "\u001b[1;31m---------------------------------------------------------------------------\u001b[0m",
      "\u001b[1;31mException\u001b[0m                                 Traceback (most recent call last)",
      "\u001b[1;32m<ipython-input-9-1f9cf42da7f7>\u001b[0m in \u001b[0;36m<module>\u001b[1;34m\u001b[0m\n\u001b[1;32m----> 1\u001b[1;33m \u001b[0mquery\u001b[0m \u001b[1;33m=\u001b[0m \u001b[0mbn\u001b[0m\u001b[1;33m.\u001b[0m\u001b[0minference\u001b[0m\u001b[1;33m.\u001b[0m\u001b[0mfit\u001b[0m\u001b[1;33m(\u001b[0m\u001b[0mmodel\u001b[0m\u001b[1;33m,\u001b[0m \u001b[0mvariables\u001b[0m\u001b[1;33m=\u001b[0m\u001b[1;33m[\u001b[0m\u001b[1;34m'Engine Capacity'\u001b[0m\u001b[1;33m]\u001b[0m\u001b[1;33m,\u001b[0m \u001b[0mevidence\u001b[0m\u001b[1;33m=\u001b[0m\u001b[1;33m{\u001b[0m\u001b[1;34m'co'\u001b[0m\u001b[1;33m:\u001b[0m \u001b[1;32mTrue\u001b[0m\u001b[1;33m}\u001b[0m\u001b[1;33m)\u001b[0m\u001b[1;33m\u001b[0m\u001b[1;33m\u001b[0m\u001b[0m\n\u001b[0m\u001b[0;32m      2\u001b[0m \u001b[0mprint\u001b[0m\u001b[1;33m(\u001b[0m\u001b[0mquery\u001b[0m\u001b[1;33m)\u001b[0m\u001b[1;33m\u001b[0m\u001b[1;33m\u001b[0m\u001b[0m\n\u001b[0;32m      3\u001b[0m \u001b[0mprint\u001b[0m\u001b[1;33m(\u001b[0m\u001b[0mquery\u001b[0m\u001b[1;33m.\u001b[0m\u001b[0mdf\u001b[0m\u001b[1;33m)\u001b[0m\u001b[1;33m\u001b[0m\u001b[1;33m\u001b[0m\u001b[0m\n",
      "\u001b[1;32mC:\\anaconda\\lib\\site-packages\\bnlearn\\inference.py\u001b[0m in \u001b[0;36mfit\u001b[1;34m(model, variables, evidence, to_df, verbose)\u001b[0m\n\u001b[0;32m     70\u001b[0m     \u001b[0madjmat\u001b[0m \u001b[1;33m=\u001b[0m \u001b[0mmodel\u001b[0m\u001b[1;33m[\u001b[0m\u001b[1;34m'adjmat'\u001b[0m\u001b[1;33m]\u001b[0m\u001b[1;33m\u001b[0m\u001b[1;33m\u001b[0m\u001b[0m\n\u001b[0;32m     71\u001b[0m     \u001b[1;32mif\u001b[0m \u001b[1;32mnot\u001b[0m \u001b[0mnp\u001b[0m\u001b[1;33m.\u001b[0m\u001b[0mall\u001b[0m\u001b[1;33m(\u001b[0m\u001b[0mnp\u001b[0m\u001b[1;33m.\u001b[0m\u001b[0misin\u001b[0m\u001b[1;33m(\u001b[0m\u001b[0mvariables\u001b[0m\u001b[1;33m,\u001b[0m \u001b[0madjmat\u001b[0m\u001b[1;33m.\u001b[0m\u001b[0mcolumns\u001b[0m\u001b[1;33m)\u001b[0m\u001b[1;33m)\u001b[0m\u001b[1;33m:\u001b[0m\u001b[1;33m\u001b[0m\u001b[1;33m\u001b[0m\u001b[0m\n\u001b[1;32m---> 72\u001b[1;33m         \u001b[1;32mraise\u001b[0m \u001b[0mException\u001b[0m\u001b[1;33m(\u001b[0m\u001b[1;34m'[bnlearn] >Error: [variables] should match names in the model (Case sensitive!)'\u001b[0m\u001b[1;33m)\u001b[0m\u001b[1;33m\u001b[0m\u001b[1;33m\u001b[0m\u001b[0m\n\u001b[0m\u001b[0;32m     73\u001b[0m     \u001b[1;32mif\u001b[0m \u001b[1;32mnot\u001b[0m \u001b[0mnp\u001b[0m\u001b[1;33m.\u001b[0m\u001b[0mall\u001b[0m\u001b[1;33m(\u001b[0m\u001b[0mnp\u001b[0m\u001b[1;33m.\u001b[0m\u001b[0misin\u001b[0m\u001b[1;33m(\u001b[0m\u001b[1;33m[\u001b[0m\u001b[1;33m*\u001b[0m\u001b[0mevidence\u001b[0m\u001b[1;33m.\u001b[0m\u001b[0mkeys\u001b[0m\u001b[1;33m(\u001b[0m\u001b[1;33m)\u001b[0m\u001b[1;33m]\u001b[0m\u001b[1;33m,\u001b[0m \u001b[0madjmat\u001b[0m\u001b[1;33m.\u001b[0m\u001b[0mcolumns\u001b[0m\u001b[1;33m)\u001b[0m\u001b[1;33m)\u001b[0m\u001b[1;33m:\u001b[0m\u001b[1;33m\u001b[0m\u001b[1;33m\u001b[0m\u001b[0m\n\u001b[0;32m     74\u001b[0m         \u001b[1;32mraise\u001b[0m \u001b[0mException\u001b[0m\u001b[1;33m(\u001b[0m\u001b[1;34m'[bnlearn] >Error: [evidence] should match names in the model (Case sensitive!)'\u001b[0m\u001b[1;33m)\u001b[0m\u001b[1;33m\u001b[0m\u001b[1;33m\u001b[0m\u001b[0m\n",
      "\u001b[1;31mException\u001b[0m: [bnlearn] >Error: [variables] should match names in the model (Case sensitive!)"
     ]
    }
   ],
   "source": [
    "query = bn.inference.fit(model, variables=['Engine Capacity'], evidence={'co': True})\n",
    "print(query)\n",
    "print(query.df)"
   ]
  },
  {
   "cell_type": "code",
   "execution_count": null,
   "metadata": {},
   "outputs": [],
   "source": [
    "q1 = bn.inference.fit(model, variables=['transmission'], evidence={'year':14})\n",
    "print(query)\n",
    "print(query.df)"
   ]
  },
  {
   "cell_type": "code",
   "execution_count": null,
   "metadata": {},
   "outputs": [],
   "source": [
    "bn.print_CPD(model)"
   ]
  },
  {
   "cell_type": "code",
   "execution_count": null,
   "metadata": {},
   "outputs": [],
   "source": []
  },
  {
   "cell_type": "code",
   "execution_count": null,
   "metadata": {},
   "outputs": [],
   "source": [
    "Xtest = bn.sampling(model, n=1000)\n",
    "Xtest = Xtest[['co2', 'urban_metric', 'engine_capacity']]\n",
    "print(Xtest)"
   ]
  },
  {
   "cell_type": "code",
   "execution_count": null,
   "metadata": {},
   "outputs": [],
   "source": [
    "Pred = bn.predict(model, Xtest, variables=['co2', 'urban_metric'])\n",
    "print(Pred)"
   ]
  },
  {
   "cell_type": "code",
   "execution_count": null,
   "metadata": {},
   "outputs": [],
   "source": [
    "MSE = metrics.mean_squared_error(Xtest, Pred)*100\n",
    "print(MSE)"
   ]
  },
  {
   "cell_type": "code",
   "execution_count": null,
   "metadata": {},
   "outputs": [],
   "source": [
    "n = len(Xtest)"
   ]
  },
  {
   "cell_type": "code",
   "execution_count": null,
   "metadata": {},
   "outputs": [],
   "source": [
    "bic =  n * log(MSE) + 2 * log(n)    #2 is number of params of X \n",
    "bic"
   ]
  }
 ],
 "metadata": {
  "kernelspec": {
   "display_name": "Python 3",
   "language": "python",
   "name": "python3"
  },
  "language_info": {
   "codemirror_mode": {
    "name": "ipython",
    "version": 3
   },
   "file_extension": ".py",
   "mimetype": "text/x-python",
   "name": "python",
   "nbconvert_exporter": "python",
   "pygments_lexer": "ipython3",
   "version": "3.8.3"
  }
 },
 "nbformat": 4,
 "nbformat_minor": 4
}
